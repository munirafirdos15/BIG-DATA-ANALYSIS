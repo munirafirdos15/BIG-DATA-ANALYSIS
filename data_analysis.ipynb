{
 "cells": [
  {
   "cell_type": "markdown",
   "id": "084fd940-3de2-4430-96f4-3acc04abea6b",
   "metadata": {},
   "source": [
    "### INITIALISING PYSPARK AND STARTING SESSION"
   ]
  },
  {
   "cell_type": "code",
   "execution_count": 17,
   "id": "7a25471a-a618-4131-ad34-768e5a3dd376",
   "metadata": {},
   "outputs": [
    {
     "data": {
      "text/html": [
       "\n",
       "            <div>\n",
       "                <p><b>SparkSession - in-memory</b></p>\n",
       "                \n",
       "        <div>\n",
       "            <p><b>SparkContext</b></p>\n",
       "\n",
       "            <p><a href=\"http://Administrator:4040\">Spark UI</a></p>\n",
       "\n",
       "            <dl>\n",
       "              <dt>Version</dt>\n",
       "                <dd><code>v3.5.4</code></dd>\n",
       "              <dt>Master</dt>\n",
       "                <dd><code>local[*]</code></dd>\n",
       "              <dt>AppName</dt>\n",
       "                <dd><code>Big Data Analysis</code></dd>\n",
       "            </dl>\n",
       "        </div>\n",
       "        \n",
       "            </div>\n",
       "        "
      ],
      "text/plain": [
       "<pyspark.sql.session.SparkSession at 0x150b46c1580>"
      ]
     },
     "execution_count": 17,
     "metadata": {},
     "output_type": "execute_result"
    }
   ],
   "source": [
    "import findspark\n",
    "findspark.init()  # for finding Spark installation\n",
    "\n",
    "from pyspark.sql import SparkSession\n",
    "\n",
    "# Creating a Spark session\n",
    "spark = SparkSession.builder \\\n",
    "    .appName(\"Big Data Analysis\") \\\n",
    "    .getOrCreate()\n",
    "\n",
    "# Checking if Spark is running\n",
    "spark\n"
   ]
  },
  {
   "cell_type": "markdown",
   "id": "b77ef038-423b-49b4-b6fe-b93576a74ef1",
   "metadata": {},
   "source": [
    "### LOADING DATA SET"
   ]
  },
  {
   "cell_type": "code",
   "execution_count": 19,
   "id": "01f664d3-506d-4b81-bcba-1bf0d82481c5",
   "metadata": {},
   "outputs": [],
   "source": [
    "dataset_path = r\"C:\\Users\\MUSHARRAF\\Downloads\\archive\\dirty_cafe_sales.csv\"\n",
    "\n",
    "dataset = spark.read.option(\"header\", \"true\").csv(dataset_path, inferSchema=True)"
   ]
  },
  {
   "cell_type": "markdown",
   "id": "f8730d3b-7a45-43f0-a736-d40ba2731ee0",
   "metadata": {},
   "source": [
    "### DISPLAYING 15 ROWS"
   ]
  },
  {
   "cell_type": "code",
   "execution_count": 21,
   "id": "14618363-292e-44a6-abf2-996e76c6ec53",
   "metadata": {},
   "outputs": [
    {
     "name": "stdout",
     "output_type": "stream",
     "text": [
      "+--------------+--------+--------+--------------+-----------+--------------+--------+----------------+\n",
      "|Transaction ID|    Item|Quantity|Price Per Unit|Total Spent|Payment Method|Location|Transaction Date|\n",
      "+--------------+--------+--------+--------------+-----------+--------------+--------+----------------+\n",
      "|   TXN_1961373|  Coffee|       2|           2.0|        4.0|   Credit Card|Takeaway|      2023-09-08|\n",
      "|   TXN_4977031|    Cake|       4|           3.0|       12.0|          Cash|In-store|      2023-05-16|\n",
      "|   TXN_4271903|  Cookie|       4|           1.0|      ERROR|   Credit Card|In-store|      2023-07-19|\n",
      "|   TXN_7034554|   Salad|       2|           5.0|       10.0|       UNKNOWN| UNKNOWN|      2023-04-27|\n",
      "|   TXN_3160411|  Coffee|       2|           2.0|        4.0|Digital Wallet|In-store|      2023-06-11|\n",
      "|   TXN_2602893|Smoothie|       5|           4.0|       20.0|   Credit Card|    NULL|      2023-03-31|\n",
      "|   TXN_4433211| UNKNOWN|       3|           3.0|        9.0|         ERROR|Takeaway|      2023-10-06|\n",
      "|   TXN_6699534|Sandwich|       4|           4.0|       16.0|          Cash| UNKNOWN|      2023-10-28|\n",
      "|   TXN_4717867|    NULL|       5|           3.0|       15.0|          NULL|Takeaway|      2023-07-28|\n",
      "|   TXN_2064365|Sandwich|       5|           4.0|       20.0|          NULL|In-store|      2023-12-31|\n",
      "|   TXN_2548360|   Salad|       5|           5.0|       25.0|          Cash|Takeaway|      2023-11-07|\n",
      "|   TXN_3051279|Sandwich|       2|           4.0|        8.0|   Credit Card|Takeaway|           ERROR|\n",
      "|   TXN_7619095|Sandwich|       2|           4.0|        8.0|          Cash|In-store|      2023-05-03|\n",
      "|   TXN_9437049|  Cookie|       5|           1.0|        5.0|          NULL|Takeaway|      2023-06-01|\n",
      "|   TXN_8915701|   ERROR|       2|           1.5|        3.0|          NULL|In-store|      2023-03-21|\n",
      "+--------------+--------+--------+--------------+-----------+--------------+--------+----------------+\n",
      "only showing top 15 rows\n",
      "\n"
     ]
    }
   ],
   "source": [
    "dataset.show(15)"
   ]
  },
  {
   "cell_type": "markdown",
   "id": "9ba00e01-8103-453f-86e0-91a35145b4b7",
   "metadata": {},
   "source": [
    "### PRINTING DATATYPES "
   ]
  },
  {
   "cell_type": "code",
   "execution_count": 23,
   "id": "ecd20940-7e48-4dc7-ae80-bf09aa08f2fb",
   "metadata": {},
   "outputs": [
    {
     "name": "stdout",
     "output_type": "stream",
     "text": [
      "root\n",
      " |-- Transaction ID: string (nullable = true)\n",
      " |-- Item: string (nullable = true)\n",
      " |-- Quantity: string (nullable = true)\n",
      " |-- Price Per Unit: string (nullable = true)\n",
      " |-- Total Spent: string (nullable = true)\n",
      " |-- Payment Method: string (nullable = true)\n",
      " |-- Location: string (nullable = true)\n",
      " |-- Transaction Date: string (nullable = true)\n",
      "\n"
     ]
    }
   ],
   "source": [
    "dataset.printSchema()"
   ]
  },
  {
   "cell_type": "markdown",
   "id": "851dcbec-db28-4f39-963c-28d5b398cc7d",
   "metadata": {},
   "source": [
    "### HANDLING MISSING VALUES"
   ]
  },
  {
   "cell_type": "code",
   "execution_count": 25,
   "id": "d82ce619-d0f8-4d3c-b29f-8c2e364b9849",
   "metadata": {},
   "outputs": [
    {
     "data": {
      "text/plain": [
       "4550"
      ]
     },
     "execution_count": 25,
     "metadata": {},
     "output_type": "execute_result"
    }
   ],
   "source": [
    "dataset_clean = dataset.dropna()\n",
    "dataset_clean.count()"
   ]
  },
  {
   "cell_type": "markdown",
   "id": "589d33fe-238b-4bc3-a26c-3f95759ff907",
   "metadata": {},
   "source": [
    "### CONVERTING DATA TYPE"
   ]
  },
  {
   "cell_type": "code",
   "execution_count": 27,
   "id": "b62ee5cb-ee27-4fdc-8111-a5275b15b2f0",
   "metadata": {},
   "outputs": [],
   "source": [
    "from pyspark.sql.functions import col\n",
    "dataset_clean = dataset_clean.withColumn(\"Price Per Unit\", col(\"Price Per Unit\").cast(\"float\"))"
   ]
  },
  {
   "cell_type": "markdown",
   "id": "9119cf32-c2f5-46d1-a034-44ef525c4b4d",
   "metadata": {},
   "source": [
    "### GROUPING DATA"
   ]
  },
  {
   "cell_type": "code",
   "execution_count": 29,
   "id": "1faa31c3-b246-404d-838b-e91a1ff5b403",
   "metadata": {},
   "outputs": [
    {
     "name": "stdout",
     "output_type": "stream",
     "text": [
      "+--------+-----------+\n",
      "|    Item|Total_Spent|\n",
      "+--------+-----------+\n",
      "|   Salad|        564|\n",
      "|   ERROR|        136|\n",
      "|     Tea|        505|\n",
      "|Sandwich|        547|\n",
      "|   Juice|        569|\n",
      "| UNKNOWN|        159|\n",
      "|Smoothie|        491|\n",
      "|  Coffee|        503|\n",
      "|    Cake|        539|\n",
      "|  Cookie|        537|\n",
      "+--------+-----------+\n",
      "\n"
     ]
    }
   ],
   "source": [
    "from pyspark.sql.functions import count\n",
    "\n",
    "sales_count = dataset_clean.groupBy(\"Item\").agg(count(\"*\").alias(\"Total_Spent\"))\n",
    "sales_count.show(15)\n"
   ]
  },
  {
   "cell_type": "markdown",
   "id": "d3f4793d-fd6d-47ba-8d79-819b26034c30",
   "metadata": {},
   "source": [
    "### PRICE STATISTICS"
   ]
  },
  {
   "cell_type": "code",
   "execution_count": 31,
   "id": "11b74f1c-9202-4f23-99e2-ab3810247fa8",
   "metadata": {},
   "outputs": [
    {
     "name": "stdout",
     "output_type": "stream",
     "text": [
      "+------------------+---------+---------+\n",
      "|     average_price|max_price|min_price|\n",
      "+------------------+---------+---------+\n",
      "|2.9569831127339112|      5.0|      1.0|\n",
      "+------------------+---------+---------+\n",
      "\n"
     ]
    }
   ],
   "source": [
    "from pyspark.sql.functions import avg, max, min\n",
    "\n",
    "price_stats = dataset_clean.agg(\n",
    "    avg(\"Price Per Unit\").alias(\"average_price\"),\n",
    "    max(\"Price Per Unit\").alias(\"max_price\"),\n",
    "    min(\"Price Per Unit\").alias(\"min_price\")\n",
    ")\n",
    "price_stats.show()\n"
   ]
  }
 ],
 "metadata": {
  "kernelspec": {
   "display_name": "Python [conda env:base] *",
   "language": "python",
   "name": "conda-base-py"
  },
  "language_info": {
   "codemirror_mode": {
    "name": "ipython",
    "version": 3
   },
   "file_extension": ".py",
   "mimetype": "text/x-python",
   "name": "python",
   "nbconvert_exporter": "python",
   "pygments_lexer": "ipython3",
   "version": "3.12.7"
  }
 },
 "nbformat": 4,
 "nbformat_minor": 5
}
